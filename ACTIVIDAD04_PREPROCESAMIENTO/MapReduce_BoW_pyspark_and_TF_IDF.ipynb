{
  "nbformat": 4,
  "nbformat_minor": 0,
  "metadata": {
    "colab": {
      "name": "MapReduce_BoW_pyspark and TF-IDF.ipynb",
      "provenance": [],
      "collapsed_sections": [],
      "toc_visible": true
    },
    "kernelspec": {
      "name": "python3",
      "display_name": "Python 3"
    },
    "language_info": {
      "name": "python"
    }
  },
  "cells": [
    {
      "cell_type": "markdown",
      "source": [
        "#PRACTICA 04 PARTE 2 MINERIA DE DATOS\n",
        "---\n",
        "```\n",
        "Docente    : Carlos Fernando Montoya Cubas\n",
        "Alumno     : Cesar Rodrigo Ttito Quilca\n",
        "Codigo     : 140998\n",
        "Proposito  : Realizar MapReduce en el Bag of Words(BoW) en Pyspark y el TF-IDF\n",
        "```\n",
        "---\n",
        "\n"
      ],
      "metadata": {
        "id": "7a2w8dwQgZEa"
      }
    },
    {
      "cell_type": "code",
      "source": [
        "!pip install pyspark==3.0.1 py4j==0.10.9"
      ],
      "metadata": {
        "colab": {
          "base_uri": "https://localhost:8080/"
        },
        "id": "vHcj-zXMYpl-",
        "outputId": "ab8462e2-df34-4edb-bd45-7fc05a016077"
      },
      "execution_count": 1,
      "outputs": [
        {
          "output_type": "stream",
          "name": "stdout",
          "text": [
            "Collecting pyspark==3.0.1\n",
            "  Downloading pyspark-3.0.1.tar.gz (204.2 MB)\n",
            "\u001b[K     |████████████████████████████████| 204.2 MB 35 kB/s \n",
            "\u001b[?25hCollecting py4j==0.10.9\n",
            "  Downloading py4j-0.10.9-py2.py3-none-any.whl (198 kB)\n",
            "\u001b[K     |████████████████████████████████| 198 kB 52.3 MB/s \n",
            "\u001b[?25hBuilding wheels for collected packages: pyspark\n",
            "  Building wheel for pyspark (setup.py) ... \u001b[?25l\u001b[?25hdone\n",
            "  Created wheel for pyspark: filename=pyspark-3.0.1-py2.py3-none-any.whl size=204612246 sha256=448b5d6d9debce78cb0d854bb42290026f67a2ccd64d21f187deca34c7e44a14\n",
            "  Stored in directory: /root/.cache/pip/wheels/5e/34/fa/b37b5cef503fc5148b478b2495043ba61b079120b7ff379f9b\n",
            "Successfully built pyspark\n",
            "Installing collected packages: py4j, pyspark\n",
            "Successfully installed py4j-0.10.9 pyspark-3.0.1\n"
          ]
        }
      ]
    },
    {
      "cell_type": "code",
      "source": [
        "from pyspark import SparkContext\n",
        "sc = SparkContext.getOrCreate()\n",
        "from pyspark.sql import SparkSession\n",
        "\n",
        "spark = SparkSession.builder.master(\"local[*]\").getOrCreate()\n"
      ],
      "metadata": {
        "id": "XPOGH-esYk1x"
      },
      "execution_count": 2,
      "outputs": []
    },
    {
      "cell_type": "code",
      "source": [
        "sc"
      ],
      "metadata": {
        "colab": {
          "base_uri": "https://localhost:8080/",
          "height": 196
        },
        "id": "V4L86dDpZJDW",
        "outputId": "2609c98a-e98b-441d-9504-2eab2cc34499"
      },
      "execution_count": 3,
      "outputs": [
        {
          "output_type": "execute_result",
          "data": {
            "text/html": [
              "\n",
              "        <div>\n",
              "            <p><b>SparkContext</b></p>\n",
              "\n",
              "            <p><a href=\"http://1e58a521ecdf:4040\">Spark UI</a></p>\n",
              "\n",
              "            <dl>\n",
              "              <dt>Version</dt>\n",
              "                <dd><code>v3.0.1</code></dd>\n",
              "              <dt>Master</dt>\n",
              "                <dd><code>local[*]</code></dd>\n",
              "              <dt>AppName</dt>\n",
              "                <dd><code>pyspark-shell</code></dd>\n",
              "            </dl>\n",
              "        </div>\n",
              "        "
            ],
            "text/plain": [
              "<SparkContext master=local[*] appName=pyspark-shell>"
            ]
          },
          "metadata": {},
          "execution_count": 3
        }
      ]
    },
    {
      "cell_type": "markdown",
      "source": [
        "### BAG OF WORDS (Bow)\n",
        "\n",
        "Es una técnica de procesamiento de lenguaje natural de modelado de texto, es aqul texto que es desordenado y no estructurado, y los algoritmos de aprendizaje automático prefieren entradas de longitud fija estructuradas y bien definidas y, al utilizar la técnica Bag-of-Words, podemos convertir textos de longitud variable en una longitud fija. `vector.`\n",
        "\n",
        "\n",
        "\n"
      ],
      "metadata": {
        "id": "cd3oHI3q62wE"
      }
    },
    {
      "cell_type": "code",
      "execution_count": 4,
      "metadata": {
        "colab": {
          "base_uri": "https://localhost:8080/"
        },
        "id": "wQZVpQloVfok",
        "outputId": "66fb4123-9ef9-4379-8b58-2679e7bede59"
      },
      "outputs": [
        {
          "output_type": "execute_result",
          "data": {
            "text/plain": [
              "[((1, 'La'), 1),\n",
              " ((1, 'tiene'), 1),\n",
              " ((1, 'un'), 1),\n",
              " ((1, 'lleno'), 1),\n",
              " ((1, 'de'), 4),\n",
              " ((1, 'la'), 2),\n",
              " ((1, 'Flores,'), 1),\n",
              " ((1, 'días'), 1),\n",
              " ((1, 'regando'), 1),\n",
              " ((1, 'las'), 1),\n",
              " ((1, 'es'), 1),\n",
              " ((2, 'Mi'), 1),\n",
              " ((2, 'mama'), 2),\n",
              " ((2, 'mima'), 1),\n",
              " ((2, 'y'), 1),\n",
              " ((2, 'yo'), 1),\n",
              " ((2, 'mimo'), 1),\n",
              " ((2, 'mi'), 1),\n",
              " ((3, 'tragaban'), 2),\n",
              " ((3, 'un'), 1),\n",
              " ((1, 'familia'), 1),\n",
              " ((1, 'Flores'), 1),\n",
              " ((1, 'florero'), 1),\n",
              " ((1, 'flores'), 2),\n",
              " ((1, 'Viven'), 1),\n",
              " ((1, 'en'), 1),\n",
              " ((1, 'calle'), 1),\n",
              " ((1, 'Florida'), 2),\n",
              " ((1, 'del'), 1),\n",
              " ((1, 'distrito'), 1),\n",
              " ((1, 'pasan'), 1),\n",
              " ((1, 'los'), 1),\n",
              " ((1, 'y'), 1),\n",
              " ((1, 'viendo'), 1),\n",
              " ((1, 'florecer'), 1),\n",
              " ((1, 'su'), 1),\n",
              " ((1, 'florería'), 1),\n",
              " ((1, 'que'), 1),\n",
              " ((1, 'mejor'), 1),\n",
              " ((2, 'me'), 1),\n",
              " ((2, 'a'), 1),\n",
              " ((3, 'Tres'), 1),\n",
              " ((3, 'tristes'), 3),\n",
              " ((3, 'tigres'), 2),\n",
              " ((3, 'trigo'), 2),\n",
              " ((3, 'en'), 2),\n",
              " ((3, 'trigal'), 1),\n",
              " ((3, 'tres'), 2),\n",
              " ((3, 'trastos'), 1)]"
            ]
          },
          "metadata": {},
          "execution_count": 4
        }
      ],
      "source": [
        "import math\n",
        "#creacion para el tokenizer o bag of words\n",
        "data=[(1,'La familia Flores tiene un florero lleno de flores Viven en la calle Florida del distrito de Flores, pasan los días regando y viendo florecer las flores de su florería que es la mejor de Florida'),\n",
        "      (2,\"Mi mama me mima y yo mimo a mi mama\"),\n",
        "      (3,\"Tres tristes tigres tragaban trigo en un trigal en tres tristes trastos tragaban trigo tres tristes tigres\")]\n",
        "lines=sc.parallelize(data)\n",
        "lines.collect()\n",
        "map1=lines.flatMap(lambda x: [((x[0],i),1) for i in x[1].split()])\n",
        "map1.collect()\n",
        "#utilizacion del map reduce\n",
        "reduce=map1.reduceByKey(lambda x,y:x+y)\n",
        "#imprimir el baw of word de las 3 oraciones\n",
        "reduce.collect()\n"
      ]
    },
    {
      "cell_type": "markdown",
      "source": [
        "###Calculo TF- IDF"
      ],
      "metadata": {
        "id": "DVBBLjngs0CJ"
      }
    },
    {
      "cell_type": "code",
      "source": [
        "#Calculamos TF\n",
        "tf=reduce.map(lambda x: (x[0][1],(x[0][0],x[1])))\n",
        "tf.collect()\n",
        "map3=reduce.map(lambda x: (x[0][1],(x[0][0],x[1],1)))\n",
        "map3.collect()\n",
        "map4=map3.map(lambda x:(x[0],x[1][2]))\n",
        "map4.collect()\n",
        "reduce2=map4.reduceByKey(lambda x,y:x+y)\n",
        "reduce2.collect()\n",
        "#Calculamos IDF\n",
        "idf=reduce2.map(lambda x: (x[0],math.log10(len(data)/x[1])))\n",
        "idf.collect()\n",
        "rdd=tf.join(idf)\n",
        "rdd.collect()\n",
        "#calculamos TF-IDF\n",
        "rdd=rdd.map(lambda x: (x[1][0][0],(x[0],x[1][0][1],x[1][1],x[1][0][1]*x[1][1]))).sortByKey()\n"
      ],
      "metadata": {
        "id": "Hja6kaUwrk1K"
      },
      "execution_count": 5,
      "outputs": []
    },
    {
      "cell_type": "code",
      "source": [
        "#Mostrar Resultado\n",
        "park = SparkSession(sc)\n",
        "rdd=rdd.map(lambda x: (x[0],x[1][0],x[1][1],x[1][2]))\n",
        "hasattr(rdd, \"toDF\")\n",
        "rdd.toDF([\"ID\",\"Token\",\"Bag_of_Word\",\"TF-IDF\"]).show(50)"
      ],
      "metadata": {
        "colab": {
          "base_uri": "https://localhost:8080/"
        },
        "id": "ycwIbQDJtan4",
        "outputId": "e49d6bfd-6a30-4454-a699-f059e4d9e980"
      },
      "execution_count": 6,
      "outputs": [
        {
          "output_type": "stream",
          "name": "stdout",
          "text": [
            "+---+--------+-----------+-------------------+\n",
            "| ID|   Token|Bag_of_Word|             TF-IDF|\n",
            "+---+--------+-----------+-------------------+\n",
            "|  1|       y|          1|0.17609125905568124|\n",
            "|  1| florero|          1|0.47712125471966244|\n",
            "|  1|  flores|          2|0.47712125471966244|\n",
            "|  1|   pasan|          1|0.47712125471966244|\n",
            "|  1|     los|          1|0.47712125471966244|\n",
            "|  1|  viendo|          1|0.47712125471966244|\n",
            "|  1|florecer|          1|0.47712125471966244|\n",
            "|  1|   mejor|          1|0.47712125471966244|\n",
            "|  1|      La|          1|0.47712125471966244|\n",
            "|  1|   tiene|          1|0.47712125471966244|\n",
            "|  1|   lleno|          1|0.47712125471966244|\n",
            "|  1|      la|          2|0.47712125471966244|\n",
            "|  1|    días|          1|0.47712125471966244|\n",
            "|  1| regando|          1|0.47712125471966244|\n",
            "|  1|     las|          1|0.47712125471966244|\n",
            "|  1|      es|          1|0.47712125471966244|\n",
            "|  1| familia|          1|0.47712125471966244|\n",
            "|  1|  Flores|          1|0.47712125471966244|\n",
            "|  1|   Viven|          1|0.47712125471966244|\n",
            "|  1|      en|          1|0.17609125905568124|\n",
            "|  1|   calle|          1|0.47712125471966244|\n",
            "|  1| Florida|          2|0.47712125471966244|\n",
            "|  1|     del|          1|0.47712125471966244|\n",
            "|  1|distrito|          1|0.47712125471966244|\n",
            "|  1|      su|          1|0.47712125471966244|\n",
            "|  1|florería|          1|0.47712125471966244|\n",
            "|  1|     que|          1|0.47712125471966244|\n",
            "|  1|      un|          1|0.17609125905568124|\n",
            "|  1|      de|          4|0.47712125471966244|\n",
            "|  1| Flores,|          1|0.47712125471966244|\n",
            "|  2|    mima|          1|0.47712125471966244|\n",
            "|  2|       y|          1|0.17609125905568124|\n",
            "|  2|      yo|          1|0.47712125471966244|\n",
            "|  2|    mimo|          1|0.47712125471966244|\n",
            "|  2|       a|          1|0.47712125471966244|\n",
            "|  2|      Mi|          1|0.47712125471966244|\n",
            "|  2|    mama|          2|0.47712125471966244|\n",
            "|  2|      mi|          1|0.47712125471966244|\n",
            "|  2|      me|          1|0.47712125471966244|\n",
            "|  3| tristes|          3|0.47712125471966244|\n",
            "|  3|  trigal|          1|0.47712125471966244|\n",
            "|  3| trastos|          1|0.47712125471966244|\n",
            "|  3|      en|          2|0.17609125905568124|\n",
            "|  3|    Tres|          1|0.47712125471966244|\n",
            "|  3|  tigres|          2|0.47712125471966244|\n",
            "|  3|   trigo|          2|0.47712125471966244|\n",
            "|  3|    tres|          2|0.47712125471966244|\n",
            "|  3|      un|          1|0.17609125905568124|\n",
            "|  3|tragaban|          2|0.47712125471966244|\n",
            "+---+--------+-----------+-------------------+\n",
            "\n"
          ]
        }
      ]
    }
  ]
}