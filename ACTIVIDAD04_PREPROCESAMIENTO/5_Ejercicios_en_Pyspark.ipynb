{
  "nbformat": 4,
  "nbformat_minor": 0,
  "metadata": {
    "colab": {
      "name": "5 Ejercicios en Pyspark.ipynb",
      "provenance": [],
      "collapsed_sections": []
    },
    "kernelspec": {
      "name": "python3",
      "display_name": "Python 3"
    },
    "language_info": {
      "name": "python"
    }
  },
  "cells": [
    {
      "cell_type": "markdown",
      "source": [
        "#PRACTICA 04 PARTE 1 MINERIA DE DATOS\n",
        "---\n",
        "```\n",
        "Docente    : Carlos Fernando Montoya Cubas\n",
        "Alumno     : Cesar Rodrigo Ttito Quilca\n",
        "Codigo     : 140998\n",
        "Proposito  : Realizar 5 algoritmos de pre procesamiento de datos o paralelizados\n",
        "```\n",
        "---\n",
        "\n"
      ],
      "metadata": {
        "id": "7a2w8dwQgZEa"
      }
    },
    {
      "cell_type": "code",
      "execution_count": 1,
      "metadata": {
        "colab": {
          "base_uri": "https://localhost:8080/"
        },
        "id": "tyXuMq7esei0",
        "outputId": "1abbdadc-c536-41be-8d1b-820d7acac426"
      },
      "outputs": [
        {
          "output_type": "stream",
          "name": "stdout",
          "text": [
            "Collecting pyspark==3.0.1\n",
            "  Downloading pyspark-3.0.1.tar.gz (204.2 MB)\n",
            "\u001b[K     |████████████████████████████████| 204.2 MB 28 kB/s \n",
            "\u001b[?25hCollecting py4j==0.10.9\n",
            "  Downloading py4j-0.10.9-py2.py3-none-any.whl (198 kB)\n",
            "\u001b[K     |████████████████████████████████| 198 kB 62.3 MB/s \n",
            "\u001b[?25hBuilding wheels for collected packages: pyspark\n",
            "  Building wheel for pyspark (setup.py) ... \u001b[?25l\u001b[?25hdone\n",
            "  Created wheel for pyspark: filename=pyspark-3.0.1-py2.py3-none-any.whl size=204612246 sha256=f391e3aac40bdadc39c3ef385e7edcc30cd8e7cf5e02e452a2d1eed249a364d3\n",
            "  Stored in directory: /root/.cache/pip/wheels/5e/34/fa/b37b5cef503fc5148b478b2495043ba61b079120b7ff379f9b\n",
            "Successfully built pyspark\n",
            "Installing collected packages: py4j, pyspark\n",
            "Successfully installed py4j-0.10.9 pyspark-3.0.1\n"
          ]
        }
      ],
      "source": [
        "!pip install pyspark==3.0.1 py4j==0.10.9"
      ]
    },
    {
      "cell_type": "code",
      "source": [
        "from pyspark import SparkContext\n",
        "sc = SparkContext.getOrCreate()"
      ],
      "metadata": {
        "id": "RPpeoDhAtR2L"
      },
      "execution_count": 2,
      "outputs": []
    },
    {
      "cell_type": "code",
      "source": [
        "sc"
      ],
      "metadata": {
        "colab": {
          "base_uri": "https://localhost:8080/",
          "height": 196
        },
        "id": "YtuayuLraucH",
        "outputId": "ed074d46-8171-4353-f99d-e3389d001d3d"
      },
      "execution_count": 3,
      "outputs": [
        {
          "output_type": "execute_result",
          "data": {
            "text/html": [
              "\n",
              "        <div>\n",
              "            <p><b>SparkContext</b></p>\n",
              "\n",
              "            <p><a href=\"http://a7f3e3646fd1:4040\">Spark UI</a></p>\n",
              "\n",
              "            <dl>\n",
              "              <dt>Version</dt>\n",
              "                <dd><code>v3.0.1</code></dd>\n",
              "              <dt>Master</dt>\n",
              "                <dd><code>local[*]</code></dd>\n",
              "              <dt>AppName</dt>\n",
              "                <dd><code>pyspark-shell</code></dd>\n",
              "            </dl>\n",
              "        </div>\n",
              "        "
            ],
            "text/plain": [
              "<SparkContext master=local[*] appName=pyspark-shell>"
            ]
          },
          "metadata": {},
          "execution_count": 3
        }
      ]
    },
    {
      "cell_type": "markdown",
      "source": [
        "##Primer Ejercicio\n",
        "\n",
        "\n",
        "\n"
      ],
      "metadata": {
        "id": "vWjAMkgIvkW0"
      }
    },
    {
      "cell_type": "markdown",
      "source": [
        "\n",
        "### **Distancia de Minkowski**\n",
        "Como sabemos la distancia de minkowski es la Distancia entre dos vectores numéricos \n",
        "\n",
        "*Distancia Minkowsi*\n",
        "\n",
        "\n",
        "![image.png](data:image/png;base64,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)\n",
        "\n",
        "El parámetro p de la métrica de distancia de Minkowski de **`Pyspark`** representa el orden de la norma. Cuando el orden (p) es 1, representará la Distancia de Manhattan y cuando el orden en la fórmula anterior es 2, representará la Distancia euclidiana.\n",
        "\n",
        "Cuando nuestros objetos están representados en el espacio Minkowski, medimos la similitud entre ellos a través de la *p-Norma* definida por:\n",
        "\n",
        "$$d(x,y,p) = (\\sum_{i=1}^{n}{|x_i - y_i|^p})^{1/p}$$      $$p≥1$$\n",
        "\n",
        "la norma $p$ siempre puede tomar cualquier valor:\n",
        "\n",
        "\n",
        "$$d(x,y,p) = (\\sum_{i=1}^{n}{|x_i - y_i|^p})$$\n",
        "\n",
        "$$d(x,y,\\infty) = \\max(|x_1 - y_1|,|x_2 - y_2|, ..., |x_n - y_n|)^p$$\n",
        "\n",
        "$$d(x,y,\\infty) = \\min(|x_1 - y_1|,|x_2 - y_2|, ..., |x_n - y_n|)^p$$"
      ],
      "metadata": {
        "id": "kbD1EbuGvx5T"
      }
    },
    {
      "cell_type": "code",
      "source": [
        "import numpy as np\n",
        "\n",
        "# Creemos una función rNorm que toma como parámetro y devuelve una función que calcula el pNorm\n",
        "def pNorm(p):\n",
        "    def Dist(x,y):\n",
        "        return np.power(np.power(np.abs(x-y),p).sum(),1/float(p))\n",
        "    return Dist\n",
        "# Creemos un RDD con valores numéricos.\n",
        "np.random.seed(50)\n",
        "num_p = sc.parallelize(enumerate(np.random.random(size=(10,100))))"
      ],
      "metadata": {
        "id": "HJvzO747tavS"
      },
      "execution_count": 4,
      "outputs": []
    },
    {
      "cell_type": "code",
      "source": [
        "num_p"
      ],
      "metadata": {
        "colab": {
          "base_uri": "https://localhost:8080/"
        },
        "id": "p91RbGH10KVy",
        "outputId": "61df197b-b90b-4b2c-d1e9-5f4bc033290e"
      },
      "execution_count": 5,
      "outputs": [
        {
          "output_type": "execute_result",
          "data": {
            "text/plain": [
              "ParallelCollectionRDD[0] at readRDDFromFile at PythonRDD.scala:262"
            ]
          },
          "metadata": {},
          "execution_count": 5
        }
      ]
    },
    {
      "cell_type": "markdown",
      "source": [
        "*Aqui mostramos la formula del minkowski tiene un parecido a la formula euclidian lo que diferencia es su norma ya que el monkwoski puede aceptar valores P y el euclian solo valor 2*\n"
      ],
      "metadata": {
        "id": "XlgDE3Rd2C5C"
      }
    },
    {
      "cell_type": "code",
      "source": [
        "#Formula Minswoski\n",
        "dat_p = num_p.cartesian(num_p)\n",
        "dato_p = dat_p.map(lambda x: ((x[0][0],x[1][0]), (x[0][1],x[1][1])))\n",
        "#minwoski el valor p tendra diferentes valores \n",
        "p = 5\n",
        "#p = 6\n",
        "# p = 7\n",
        "Minkow = pNorm(p)\n",
        "dist = dato_p.map(lambda x: (x[0], Minkow(x[1][0],x[1][1])))\n",
        "soluc = dist.map(lambda x: x[1])\n",
        "minv, maxv, meanv = soluc.min(), soluc.max(), soluc.mean()\n",
        "\n",
        "print('minimo valor minkowski: ',minv)\n",
        "print('maximo valor minkowski: ',maxv)\n",
        "print('Media de los valores minkowski: ',meanv)\n"
      ],
      "metadata": {
        "colab": {
          "base_uri": "https://localhost:8080/"
        },
        "id": "9rHro22QzY5t",
        "outputId": "81dd35bf-dee5-429f-b523-bfa44912fe1d"
      },
      "execution_count": 10,
      "outputs": [
        {
          "output_type": "stream",
          "name": "stdout",
          "text": [
            "minimo valor minkowski:  0.0\n",
            "maximo valor minkowski:  1.444514010466728\n",
            "Media de los valores minkowski:  1.2070128755149965\n"
          ]
        }
      ]
    },
    {
      "cell_type": "markdown",
      "source": [
        "## Segundo Ejercicio"
      ],
      "metadata": {
        "id": "PHB5tHoL2_xj"
      }
    },
    {
      "cell_type": "markdown",
      "source": [
        "### Escalonamiento\n",
        "\n",
        "Los algoritmos basados en metodos de gradiente tienden a beneficiarse cuando los atributos estan entre $[0,1]$.\n",
        "\n",
        "$X_{i,j} = \\frac{X_{i,j} - max X_j} {max X_j - min_{X_j}}$"
      ],
      "metadata": {
        "id": "OdOEKE-p33SI"
      }
    },
    {
      "cell_type": "code",
      "source": [
        "import IPython\n",
        "from pyspark import SparkConf \n",
        "from pyspark.context import SparkContext \n",
        "from pyspark.sql import SparkSession\n",
        "from pyspark.ml.feature import MinMaxScaler\n",
        "from pyspark.ml.feature import VectorAssembler\n",
        "from pyspark.ml import Pipeline\n",
        "from pyspark.sql.functions import udf\n",
        "from pyspark.sql.types import DoubleType"
      ],
      "metadata": {
        "id": "9z6UXnys3C-y"
      },
      "execution_count": 11,
      "outputs": []
    },
    {
      "cell_type": "code",
      "source": [
        "spark = SparkSession.builder.master(\"local[*]\").getOrCreate()\n"
      ],
      "metadata": {
        "id": "03QuEY9f6Hjb"
      },
      "execution_count": 12,
      "outputs": []
    },
    {
      "cell_type": "code",
      "source": [
        "spark"
      ],
      "metadata": {
        "colab": {
          "base_uri": "https://localhost:8080/",
          "height": 219
        },
        "id": "v-ue6C7mdmco",
        "outputId": "d918f9bf-0748-4ec4-b52a-73a4c5a20494"
      },
      "execution_count": 13,
      "outputs": [
        {
          "output_type": "execute_result",
          "data": {
            "text/html": [
              "\n",
              "            <div>\n",
              "                <p><b>SparkSession - in-memory</b></p>\n",
              "                \n",
              "        <div>\n",
              "            <p><b>SparkContext</b></p>\n",
              "\n",
              "            <p><a href=\"http://a7f3e3646fd1:4040\">Spark UI</a></p>\n",
              "\n",
              "            <dl>\n",
              "              <dt>Version</dt>\n",
              "                <dd><code>v3.0.1</code></dd>\n",
              "              <dt>Master</dt>\n",
              "                <dd><code>local[*]</code></dd>\n",
              "              <dt>AppName</dt>\n",
              "                <dd><code>pyspark-shell</code></dd>\n",
              "            </dl>\n",
              "        </div>\n",
              "        \n",
              "            </div>\n",
              "        "
            ],
            "text/plain": [
              "<pyspark.sql.session.SparkSession at 0x7f2ce026f510>"
            ]
          },
          "metadata": {},
          "execution_count": 13
        }
      ]
    },
    {
      "cell_type": "code",
      "source": [
        "#Creamos datos\n",
        "df = spark.createDataFrame([ (1, 'Alex',120,45),\n",
        "                             (2, 'Paul',200,90),\n",
        "                             (3, 'Yuger',60,81),\n",
        "                             (4, 'Kusko',50,50),\n",
        "                             (5, 'Maldonado',500,55),\n",
        "                             (6, 'pedro',140,46)\n",
        "                             ], [\"ID\", \"Nombre\",\"Ahorro\",\"Dia\"])\n",
        "\n",
        "#Mostrar datos iniciales\n",
        "print(\"Data :\")\n",
        "df.collect()\n",
        "df.show(6)\n",
        "\n",
        "#Coversion a tipo doble\n",
        "unlist = udf(lambda x: round(float(list(x)[0]),4), DoubleType())\n",
        "\n",
        "# columnas para el escalonamiento\n",
        "for i in [\"Ahorro\",\"Dia\"]:\n",
        "    assembler = VectorAssembler(inputCols=[i],outputCol=i+\"_Vect\")\n",
        "    # MinMaxScaler\n",
        "    scaler = MinMaxScaler(inputCol=i+\"_Vect\", outputCol=i+\"_Escalonado\")\n",
        "    pipeline = Pipeline(stages=[assembler, scaler])\n",
        "    #Ajuste del pipeline\n",
        "    df = pipeline.fit(df).transform(df).withColumn(i+\"_Escalonado\", unlist(i+\"_Escalonado\")).drop(i+\"_Vect\")\n",
        "\n",
        "print(\"Escalonamiento :\")\n",
        "df.collect()\n"
      ],
      "metadata": {
        "colab": {
          "base_uri": "https://localhost:8080/"
        },
        "id": "OIUhQuJi4JTD",
        "outputId": "b2d390da-ce54-4b67-c8ab-13cffe632f48"
      },
      "execution_count": 14,
      "outputs": [
        {
          "output_type": "stream",
          "name": "stdout",
          "text": [
            "Data :\n",
            "+---+---------+------+---+\n",
            "| ID|   Nombre|Ahorro|Dia|\n",
            "+---+---------+------+---+\n",
            "|  1|     Alex|   120| 45|\n",
            "|  2|     Paul|   200| 90|\n",
            "|  3|    Yuger|    60| 81|\n",
            "|  4|    Kusko|    50| 50|\n",
            "|  5|Maldonado|   500| 55|\n",
            "|  6|    pedro|   140| 46|\n",
            "+---+---------+------+---+\n",
            "\n",
            "Escalonamiento :\n"
          ]
        },
        {
          "output_type": "execute_result",
          "data": {
            "text/plain": [
              "[Row(ID=1, Nombre='Alex', Ahorro=120, Dia=45, Ahorro_Escalonado=0.1556, Dia_Escalonado=0.0),\n",
              " Row(ID=2, Nombre='Paul', Ahorro=200, Dia=90, Ahorro_Escalonado=0.3333, Dia_Escalonado=1.0),\n",
              " Row(ID=3, Nombre='Yuger', Ahorro=60, Dia=81, Ahorro_Escalonado=0.0222, Dia_Escalonado=0.8),\n",
              " Row(ID=4, Nombre='Kusko', Ahorro=50, Dia=50, Ahorro_Escalonado=0.0, Dia_Escalonado=0.1111),\n",
              " Row(ID=5, Nombre='Maldonado', Ahorro=500, Dia=55, Ahorro_Escalonado=1.0, Dia_Escalonado=0.2222),\n",
              " Row(ID=6, Nombre='pedro', Ahorro=140, Dia=46, Ahorro_Escalonado=0.2, Dia_Escalonado=0.0222)]"
            ]
          },
          "metadata": {},
          "execution_count": 14
        }
      ]
    },
    {
      "cell_type": "markdown",
      "source": [
        "El valor minimo de la columna *ahorro_escalonado* es 0.0 y el maximo es 0.333, estos estan representados correctamente en el escalonamiento estando entre 0 y 1 respectivamente, de manera similar sucede en la columna *Dia_Escalonado*."
      ],
      "metadata": {
        "id": "O5VWDkKc6_1F"
      }
    },
    {
      "cell_type": "markdown",
      "source": [
        "##Tercer Ejercicio\n"
      ],
      "metadata": {
        "id": "YWNUQ3xf60cT"
      }
    },
    {
      "cell_type": "markdown",
      "source": [
        "### Normalizacion"
      ],
      "metadata": {
        "id": "225PAlupaKDv"
      }
    },
    {
      "cell_type": "code",
      "source": [
        "import math\n",
        "#Nomazlizar elementos aleatorios \n",
        "def normalizar(x):\n",
        "    #Vector para normalizar\n",
        "    listaCuadrada=x.map(lambda xi:xi*xi)\n",
        "    total=listaCuadrada.sum()\n",
        "    val=math.sqrt(total)\n",
        "    #Escalonar vector\n",
        "    lista= x.map(lambda xi :(xi/val))\n",
        "    return lista \n",
        "\n",
        "Vector = sc.parallelize(range(10,55),4)\n",
        "VectorEscalonada=normalizar(Vector)\n",
        "#mostrar resultado\n",
        "print(\"normalizacion de numeros aleatorio entre los rangos 10 a 55\")\n",
        "VectorEscalonada.collect()"
      ],
      "metadata": {
        "colab": {
          "base_uri": "https://localhost:8080/"
        },
        "id": "ceSD6Rs5aO_V",
        "outputId": "9ff03de5-6662-4cbb-e9c7-d6b6f61b4458"
      },
      "execution_count": 16,
      "outputs": [
        {
          "output_type": "stream",
          "name": "stdout",
          "text": [
            "normalizacion de numeros aleatorio entre los rangos 10 a 55\n"
          ]
        },
        {
          "output_type": "execute_result",
          "data": {
            "text/plain": [
              "[0.043165244215452044,\n",
              " 0.04748176863699725,\n",
              " 0.05179829305854245,\n",
              " 0.056114817480087655,\n",
              " 0.060431341901632865,\n",
              " 0.06474786632317807,\n",
              " 0.06906439074472327,\n",
              " 0.07338091516626848,\n",
              " 0.07769743958781368,\n",
              " 0.08201396400935888,\n",
              " 0.08633048843090409,\n",
              " 0.09064701285244929,\n",
              " 0.0949635372739945,\n",
              " 0.0992800616955397,\n",
              " 0.1035965861170849,\n",
              " 0.1079131105386301,\n",
              " 0.11222963496017531,\n",
              " 0.11654615938172053,\n",
              " 0.12086268380326573,\n",
              " 0.12517920822481093,\n",
              " 0.12949573264635614,\n",
              " 0.13381225706790134,\n",
              " 0.13812878148944654,\n",
              " 0.14244530591099175,\n",
              " 0.14676183033253695,\n",
              " 0.15107835475408216,\n",
              " 0.15539487917562736,\n",
              " 0.15971140359717256,\n",
              " 0.16402792801871777,\n",
              " 0.16834445244026297,\n",
              " 0.17266097686180817,\n",
              " 0.17697750128335338,\n",
              " 0.18129402570489858,\n",
              " 0.18561055012644379,\n",
              " 0.189927074547989,\n",
              " 0.1942435989695342,\n",
              " 0.1985601233910794,\n",
              " 0.2028766478126246,\n",
              " 0.2071931722341698,\n",
              " 0.211509696655715,\n",
              " 0.2158262210772602,\n",
              " 0.22014274549880541,\n",
              " 0.22445926992035062,\n",
              " 0.22877579434189585,\n",
              " 0.23309231876344105]"
            ]
          },
          "metadata": {},
          "execution_count": 16
        }
      ]
    },
    {
      "cell_type": "markdown",
      "source": [
        "## Cuarto Ejercicio"
      ],
      "metadata": {
        "id": "OEet_T5oMfVH"
      }
    },
    {
      "cell_type": "markdown",
      "source": [
        "### Binarizacion\n",
        "Consiste en transformar las cadenas de texto que tienen valores de string (True y False) a valores numericos, 0 para False y 1 para True"
      ],
      "metadata": {
        "id": "EoZh1szDMvg8"
      }
    },
    {
      "cell_type": "code",
      "source": [
        "import pyspark.sql.functions as F\n",
        "from functools import reduce"
      ],
      "metadata": {
        "id": "zVDQBk9bM138"
      },
      "execution_count": 17,
      "outputs": []
    },
    {
      "cell_type": "code",
      "source": [
        "#Creamos el data a usar\n",
        "df = spark.createDataFrame([ (1, 'Rodrigo',\"Maculino\",\"True\"),\n",
        "                             (2, 'Vanesa',\"Femenino\",\"False\"),\n",
        "                             (3, 'Cesar',\"Maculino\",\"True\"),\n",
        "                             (4, 'Maria',\"Femenino\",\"False\"),\n",
        "                             (5, 'Alex',\"Maculino\",\"True\"),\n",
        "                             (6, 'Rosmel',\"Maculino\",\"True\"),\n",
        "                             (7, 'Juana',\"Femenino\",\"False\"),\n",
        "                             (8, 'Luciana',\"Femenino\",\"False\")\n",
        "                           ], [\"ID\", \"Nombre\",\"Sexo\",\"Valor String\"])\n",
        "\n",
        "#Mostramos los datos\n",
        "print(\"Data :\")\n",
        "df.show()\n",
        "\n",
        "#Aqui podemos elegir en que columnas aplicar la binarizacion\n",
        "cols = ['Valor String']\n",
        "\n",
        "#Aplicar la binarizacion al dataframe spark\n",
        "df_reduced = reduce(lambda df, c: df.withColumn(c, F.when(df[c] == 'False', 0.0).otherwise(1.0)), cols, df)\n",
        "\n",
        "#Mostrar columna binarizada\n",
        "print(\"Data + Columna binarizada:\")\n",
        "df_reduced.show()"
      ],
      "metadata": {
        "colab": {
          "base_uri": "https://localhost:8080/"
        },
        "id": "lNkS2v_hM2rj",
        "outputId": "3c5ce904-8d48-49d4-c652-5ec8551fcd74"
      },
      "execution_count": 18,
      "outputs": [
        {
          "output_type": "stream",
          "name": "stdout",
          "text": [
            "Data :\n",
            "+---+-------+--------+------------+\n",
            "| ID| Nombre|    Sexo|Valor String|\n",
            "+---+-------+--------+------------+\n",
            "|  1|Rodrigo|Maculino|        True|\n",
            "|  2| Vanesa|Femenino|       False|\n",
            "|  3|  Cesar|Maculino|        True|\n",
            "|  4|  Maria|Femenino|       False|\n",
            "|  5|   Alex|Maculino|        True|\n",
            "|  6| Rosmel|Maculino|        True|\n",
            "|  7|  Juana|Femenino|       False|\n",
            "|  8|Luciana|Femenino|       False|\n",
            "+---+-------+--------+------------+\n",
            "\n",
            "Data + Columna binarizada:\n",
            "+---+-------+--------+------------+\n",
            "| ID| Nombre|    Sexo|Valor String|\n",
            "+---+-------+--------+------------+\n",
            "|  1|Rodrigo|Maculino|         1.0|\n",
            "|  2| Vanesa|Femenino|         0.0|\n",
            "|  3|  Cesar|Maculino|         1.0|\n",
            "|  4|  Maria|Femenino|         0.0|\n",
            "|  5|   Alex|Maculino|         1.0|\n",
            "|  6| Rosmel|Maculino|         1.0|\n",
            "|  7|  Juana|Femenino|         0.0|\n",
            "|  8|Luciana|Femenino|         0.0|\n",
            "+---+-------+--------+------------+\n",
            "\n"
          ]
        }
      ]
    },
    {
      "cell_type": "markdown",
      "source": [
        "##Quinto Ejercicio"
      ],
      "metadata": {
        "id": "odsyMYHwMh0r"
      }
    },
    {
      "cell_type": "markdown",
      "source": [
        "### Distancia Jaccard\n",
        "\n",
        "La distancia de Jaccard ( $I_J$ ) o coeficiente de Jaccard ( $I_J$ ) mide el grado de similitud entre dos conjuntos, sea cual sea el tipo de elementos.\n",
        "\n",
        "La formulación es la siguiente:\n",
        "\n",
        "$$ J(x,y) = \\frac{\\sum_{i=1}^{n}{x_i == y_i} }{\\sum_{i=1}^{n}{\\max(x_i, y_i}) } $$"
      ],
      "metadata": {
        "id": "XayAlDl1TeUz"
      }
    },
    {
      "cell_type": "code",
      "source": [
        "#Calcula la distancia Jaccard entre dos vectores binarios.\n",
        "#x, y (np.array): Matriz de enteros binarios x and y.\n",
        "#Returns: J (int): La distancia Jaccard entre x and y.\n",
        "def Jaccard(x,y):\n",
        "    return (x==y).sum()/float( np.maximum(x,y).sum())\n",
        "\n",
        "colores = sc.parallelize(enumerate([['rojo', 'negro', 'azul'],\n",
        "                             ['rosado', 'negro', 'verde'],\n",
        "                             ['rosado', 'amarillo', 'azul'],\n",
        "                             ['rosado', 'negro', 'verde'],\n",
        "                             ['rojo', 'amarillo', 'verde'],\n",
        "                            ]))\n",
        "datos = (colores\n",
        "             .flatMap(lambda x: [((x[0],xi),1) for xi in x[1]])\n",
        "             .reduceByKey(lambda x,y: x)\n",
        "             .map(lambda x: x[0])\n",
        "             )\n",
        "\n",
        "dato = dict((v,k) for k,v in datos.collect())\n",
        "ndato = len(dato)\n",
        "print(dato, ndato)"
      ],
      "metadata": {
        "colab": {
          "base_uri": "https://localhost:8080/"
        },
        "id": "zuTiFYr6UGg_",
        "outputId": "38399648-0fce-4ab5-835a-7da72eaa3f64"
      },
      "execution_count": 19,
      "outputs": [
        {
          "output_type": "stream",
          "name": "stdout",
          "text": [
            "{'rojo': 4, 'negro': 3, 'rosado': 3, 'verde': 3, 'azul': 2, 'amarillo': 4} 6\n"
          ]
        }
      ]
    },
    {
      "cell_type": "code",
      "source": [
        "#Binarizar el vector categórico usando un diccionario de key\n",
        "#atributos (lista): Lista de atributos de un objeto dado\n",
        "\n",
        "def Bina(atributos,dato):  \n",
        "    array = np.zeros(len(dato))\n",
        "    for atr in atributos:\n",
        "        array[ dato[atr] ] = 1\n",
        "    return array\n",
        "\n",
        "# Convierta datosa formato binario usando key  dict\n",
        "binarizar = colores.map(lambda rec: (rec[0],Bina(rec[1], dato)))\n",
        "binarizar.collect()"
      ],
      "metadata": {
        "colab": {
          "base_uri": "https://localhost:8080/"
        },
        "id": "X9WvBBV3VZul",
        "outputId": "db8bf37c-d2c6-43ce-a99e-7857c2943575"
      },
      "execution_count": 20,
      "outputs": [
        {
          "output_type": "execute_result",
          "data": {
            "text/plain": [
              "[(0, array([0., 0., 1., 1., 1., 0.])),\n",
              " (1, array([0., 0., 0., 1., 0., 0.])),\n",
              " (2, array([0., 0., 1., 1., 1., 0.])),\n",
              " (3, array([0., 0., 0., 1., 0., 0.])),\n",
              " (4, array([0., 0., 0., 1., 1., 0.]))]"
            ]
          },
          "metadata": {},
          "execution_count": 20
        }
      ]
    },
    {
      "cell_type": "code",
      "source": [
        "# Adquirir dentro de los  PySpark para hallar produto cartesiano \n",
        "Binario = binarizar.cartesian(binarizar)\n",
        "# Aplicar un mapa para transformar nuestro RDD en un RDD de tupla ((id1, id2), (vector1, vector2))\n",
        "# use el comando take (1) e imprima el resultado para verificar el formato RDD actual\n",
        "Binario_par = Binario.map(lambda x: ((x[0][0],x[1][0]), (x[0][1],x[1][1])))\n",
        "#Aplicar un mapa para calcular la distancia de Jaccard entre pares\n",
        "jacRDD = Binario_par.map(lambda x: (x[0], Jaccard(x[1][0],x[1][1])))\n",
        "#calcular min, max, mean\n",
        "statJRDD = jacRDD.map(lambda x: x[1])\n",
        "Jmin, Jmax, Jmean = statJRDD.min(), statJRDD.max(), statJRDD.mean()\n",
        "\n",
        "print (\"\\t\\tMin\\tMax\\tMean\")\n",
        "print (\"Jaccard:\\t{:.2f}\\t{:.2f}\\t{:.2f}\".format( Jmin, Jmax, Jmean ))\n",
        "\n"
      ],
      "metadata": {
        "colab": {
          "base_uri": "https://localhost:8080/"
        },
        "id": "O4xKMx0EdVJ9",
        "outputId": "24230ebe-dfc2-4943-d035-d5209dda610e"
      },
      "execution_count": 22,
      "outputs": [
        {
          "output_type": "stream",
          "name": "stdout",
          "text": [
            "\t\tMin\tMax\tMean\n",
            "Jaccard:\t1.33\t6.00\t2.49\n"
          ]
        }
      ]
    },
    {
      "cell_type": "code",
      "source": [
        "print('distancia jaccard para el modulo binarizar')\n",
        "statJRDD.collect()"
      ],
      "metadata": {
        "colab": {
          "base_uri": "https://localhost:8080/"
        },
        "id": "aZ0X8fAqeBfm",
        "outputId": "15180121-640c-40f4-99c3-2162a5ce5ebf"
      },
      "execution_count": 23,
      "outputs": [
        {
          "output_type": "stream",
          "name": "stdout",
          "text": [
            "distancia jaccard para el modulo binarizar\n"
          ]
        },
        {
          "output_type": "execute_result",
          "data": {
            "text/plain": [
              "[2.0,\n",
              " 1.3333333333333333,\n",
              " 1.3333333333333333,\n",
              " 6.0,\n",
              " 2.0,\n",
              " 1.3333333333333333,\n",
              " 1.6666666666666667,\n",
              " 1.3333333333333333,\n",
              " 6.0,\n",
              " 2.5,\n",
              " 2.0,\n",
              " 1.3333333333333333,\n",
              " 1.3333333333333333,\n",
              " 1.6666666666666667,\n",
              " 6.0,\n",
              " 2.5,\n",
              " 2.0,\n",
              " 1.3333333333333333,\n",
              " 1.6666666666666667,\n",
              " 1.3333333333333333,\n",
              " 1.6666666666666667,\n",
              " 6.0,\n",
              " 2.5,\n",
              " 2.5,\n",
              " 3.0]"
            ]
          },
          "metadata": {},
          "execution_count": 23
        }
      ]
    }
  ]
}