{
  "nbformat": 4,
  "nbformat_minor": 0,
  "metadata": {
    "colab": {
      "name": "MapReduce_BoW_pyspark.ipynb",
      "provenance": [],
      "collapsed_sections": []
    },
    "kernelspec": {
      "name": "python3",
      "display_name": "Python 3"
    },
    "language_info": {
      "name": "python"
    }
  },
  "cells": [
    {
      "cell_type": "markdown",
      "source": [
        "#PRACTICA 04 PARTE 2 MINERIA DE DATOS\n",
        "---\n",
        "```\n",
        "Docente    : Carlos Fernando Montoya Cubas\n",
        "Alumno     : Cesar Rodrigo Ttito Quilca\n",
        "Codigo     : 140998\n",
        "Proposito  : Realizar MapReduce en el Bag of Words(BoW) en Pyspark\n",
        "```\n",
        "---\n",
        "\n"
      ],
      "metadata": {
        "id": "7a2w8dwQgZEa"
      }
    },
    {
      "cell_type": "code",
      "source": [
        "!pip install pyspark==3.0.1 py4j==0.10.9"
      ],
      "metadata": {
        "colab": {
          "base_uri": "https://localhost:8080/"
        },
        "id": "vHcj-zXMYpl-",
        "outputId": "b0ee8b01-857f-4c45-bc38-1f110f868081"
      },
      "execution_count": 1,
      "outputs": [
        {
          "output_type": "stream",
          "name": "stdout",
          "text": [
            "Collecting pyspark==3.0.1\n",
            "  Downloading pyspark-3.0.1.tar.gz (204.2 MB)\n",
            "\u001b[K     |████████████████████████████████| 204.2 MB 35 kB/s \n",
            "\u001b[?25hCollecting py4j==0.10.9\n",
            "  Downloading py4j-0.10.9-py2.py3-none-any.whl (198 kB)\n",
            "\u001b[K     |████████████████████████████████| 198 kB 45.9 MB/s \n",
            "\u001b[?25hBuilding wheels for collected packages: pyspark\n",
            "  Building wheel for pyspark (setup.py) ... \u001b[?25l\u001b[?25hdone\n",
            "  Created wheel for pyspark: filename=pyspark-3.0.1-py2.py3-none-any.whl size=204612246 sha256=7b86c41b744ad15889950b3320fb1d317a43f6df0f47dd958d7a3f1a1c8b5cbf\n",
            "  Stored in directory: /root/.cache/pip/wheels/5e/34/fa/b37b5cef503fc5148b478b2495043ba61b079120b7ff379f9b\n",
            "Successfully built pyspark\n",
            "Installing collected packages: py4j, pyspark\n",
            "Successfully installed py4j-0.10.9 pyspark-3.0.1\n"
          ]
        }
      ]
    },
    {
      "cell_type": "code",
      "source": [
        "from pyspark import SparkContext\n",
        "sc = SparkContext.getOrCreate()"
      ],
      "metadata": {
        "id": "XPOGH-esYk1x"
      },
      "execution_count": 2,
      "outputs": []
    },
    {
      "cell_type": "code",
      "source": [
        "sc"
      ],
      "metadata": {
        "colab": {
          "base_uri": "https://localhost:8080/",
          "height": 196
        },
        "id": "V4L86dDpZJDW",
        "outputId": "8da901d1-24e7-4f46-b476-d0adf03371c2"
      },
      "execution_count": 3,
      "outputs": [
        {
          "output_type": "execute_result",
          "data": {
            "text/html": [
              "\n",
              "        <div>\n",
              "            <p><b>SparkContext</b></p>\n",
              "\n",
              "            <p><a href=\"http://bbc7173e43b6:4040\">Spark UI</a></p>\n",
              "\n",
              "            <dl>\n",
              "              <dt>Version</dt>\n",
              "                <dd><code>v3.0.1</code></dd>\n",
              "              <dt>Master</dt>\n",
              "                <dd><code>local[*]</code></dd>\n",
              "              <dt>AppName</dt>\n",
              "                <dd><code>pyspark-shell</code></dd>\n",
              "            </dl>\n",
              "        </div>\n",
              "        "
            ],
            "text/plain": [
              "<SparkContext master=local[*] appName=pyspark-shell>"
            ]
          },
          "metadata": {},
          "execution_count": 3
        }
      ]
    },
    {
      "cell_type": "markdown",
      "source": [
        "### BAG OF WORDS (Bow)\n",
        "\n",
        "Es una técnica de procesamiento de lenguaje natural de modelado de texto, es aqul texto que es desordenado y no estructurado, y los algoritmos de aprendizaje automático prefieren entradas de longitud fija estructuradas y bien definidas y, al utilizar la técnica Bag-of-Words, podemos convertir textos de longitud variable en una longitud fija. `vector.`\n",
        "\n",
        "\n",
        "\n"
      ],
      "metadata": {
        "id": "cd3oHI3q62wE"
      }
    },
    {
      "cell_type": "code",
      "execution_count": 4,
      "metadata": {
        "colab": {
          "base_uri": "https://localhost:8080/"
        },
        "id": "wQZVpQloVfok",
        "outputId": "fd679915-595b-42c3-9a93-8fad9c8ff810"
      },
      "outputs": [
        {
          "output_type": "execute_result",
          "data": {
            "text/plain": [
              "[((1, 'La'), 1),\n",
              " ((1, 'tiene'), 1),\n",
              " ((1, 'un'), 1),\n",
              " ((1, 'lleno'), 1),\n",
              " ((1, 'de'), 4),\n",
              " ((1, 'la'), 2),\n",
              " ((1, 'Flores,'), 1),\n",
              " ((1, 'días'), 1),\n",
              " ((1, 'regando'), 1),\n",
              " ((1, 'las'), 1),\n",
              " ((1, 'es'), 1),\n",
              " ((2, 'Mi'), 1),\n",
              " ((2, 'mama'), 2),\n",
              " ((2, 'mima'), 1),\n",
              " ((2, 'y'), 1),\n",
              " ((2, 'yo'), 1),\n",
              " ((2, 'mimo'), 1),\n",
              " ((2, 'mi'), 1),\n",
              " ((3, 'tragaban'), 2),\n",
              " ((3, 'un'), 1),\n",
              " ((1, 'familia'), 1),\n",
              " ((1, 'Flores'), 1),\n",
              " ((1, 'florero'), 1),\n",
              " ((1, 'flores'), 2),\n",
              " ((1, 'Viven'), 1),\n",
              " ((1, 'en'), 1),\n",
              " ((1, 'calle'), 1),\n",
              " ((1, 'Florida'), 2),\n",
              " ((1, 'del'), 1),\n",
              " ((1, 'distrito'), 1),\n",
              " ((1, 'pasan'), 1),\n",
              " ((1, 'los'), 1),\n",
              " ((1, 'y'), 1),\n",
              " ((1, 'viendo'), 1),\n",
              " ((1, 'florecer'), 1),\n",
              " ((1, 'su'), 1),\n",
              " ((1, 'florería'), 1),\n",
              " ((1, 'que'), 1),\n",
              " ((1, 'mejor'), 1),\n",
              " ((2, 'me'), 1),\n",
              " ((2, 'a'), 1),\n",
              " ((3, 'Tres'), 1),\n",
              " ((3, 'tristes'), 3),\n",
              " ((3, 'tigres'), 2),\n",
              " ((3, 'trigo'), 2),\n",
              " ((3, 'en'), 2),\n",
              " ((3, 'trigal'), 1),\n",
              " ((3, 'tres'), 2),\n",
              " ((3, 'trastos'), 1)]"
            ]
          },
          "metadata": {},
          "execution_count": 4
        }
      ],
      "source": [
        "import math\n",
        "#creacion para el tokenizer o bag of words\n",
        "data=[(1,'La familia Flores tiene un florero lleno de flores Viven en la calle Florida del distrito de Flores, pasan los días regando y viendo florecer las flores de su florería que es la mejor de Florida'),\n",
        "      (2,\"Mi mama me mima y yo mimo a mi mama\"),\n",
        "      (3,\"Tres tristes tigres tragaban trigo en un trigal en tres tristes trastos tragaban trigo tres tristes tigres\")]\n",
        "lines=sc.parallelize(data)\n",
        "lines.collect()\n",
        "map1=lines.flatMap(lambda x: [((x[0],i),1) for i in x[1].split()])\n",
        "map1.collect()\n",
        "#utilizacion del map reduce\n",
        "reduce=map1.reduceByKey(lambda x,y:x+y)\n",
        "#imprimir el baw of word de las 3 oraciones\n",
        "reduce.collect()\n"
      ]
    }
  ]
}