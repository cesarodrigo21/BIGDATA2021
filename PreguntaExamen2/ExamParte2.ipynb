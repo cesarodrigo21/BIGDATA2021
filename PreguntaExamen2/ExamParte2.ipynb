{
 "cells": [
  {
   "cell_type": "code",
   "execution_count": 55,
   "id": "2801bfa2-08b4-45a0-8495-0550022b7f1a",
   "metadata": {},
   "outputs": [],
   "source": [
    "-- EXAMEN PARTE 2\n",
    "-- CESAR RODRIGO TTITO QUILCA\n",
    "--140998\n"
   ]
  },
  {
   "cell_type": "code",
   "execution_count": 56,
   "id": "3a09dd03-f42e-4b56-9c4f-302816f9e40d",
   "metadata": {},
   "outputs": [
    {
     "data": {
      "text/html": [
       "<style>/* Styles used for the Hoogle display in the pager */\n",
       ".hoogle-doc {\n",
       "display: block;\n",
       "padding-bottom: 1.3em;\n",
       "padding-left: 0.4em;\n",
       "}\n",
       ".hoogle-code {\n",
       "display: block;\n",
       "font-family: monospace;\n",
       "white-space: pre;\n",
       "}\n",
       ".hoogle-text {\n",
       "display: block;\n",
       "}\n",
       ".hoogle-name {\n",
       "color: green;\n",
       "font-weight: bold;\n",
       "}\n",
       ".hoogle-head {\n",
       "font-weight: bold;\n",
       "}\n",
       ".hoogle-sub {\n",
       "display: block;\n",
       "margin-left: 0.4em;\n",
       "}\n",
       ".hoogle-package {\n",
       "font-weight: bold;\n",
       "font-style: italic;\n",
       "}\n",
       ".hoogle-module {\n",
       "font-weight: bold;\n",
       "}\n",
       ".hoogle-class {\n",
       "font-weight: bold;\n",
       "}\n",
       ".get-type {\n",
       "color: green;\n",
       "font-weight: bold;\n",
       "font-family: monospace;\n",
       "display: block;\n",
       "white-space: pre-wrap;\n",
       "}\n",
       ".show-type {\n",
       "color: green;\n",
       "font-weight: bold;\n",
       "font-family: monospace;\n",
       "margin-left: 1em;\n",
       "}\n",
       ".mono {\n",
       "font-family: monospace;\n",
       "display: block;\n",
       "}\n",
       ".err-msg {\n",
       "color: red;\n",
       "font-style: italic;\n",
       "font-family: monospace;\n",
       "white-space: pre;\n",
       "display: block;\n",
       "}\n",
       "#unshowable {\n",
       "color: red;\n",
       "font-weight: bold;\n",
       "}\n",
       ".err-msg.in.collapse {\n",
       "padding-top: 0.7em;\n",
       "}\n",
       ".highlight-code {\n",
       "white-space: pre;\n",
       "font-family: monospace;\n",
       "}\n",
       ".suggestion-warning { \n",
       "font-weight: bold;\n",
       "color: rgb(200, 130, 0);\n",
       "}\n",
       ".suggestion-error { \n",
       "font-weight: bold;\n",
       "color: red;\n",
       "}\n",
       ".suggestion-name {\n",
       "font-weight: bold;\n",
       "}\n",
       "</style><div class=\"suggestion-name\" style=\"clear:both;\">Redundant bracket</div><div class=\"suggestion-row\" style=\"float: left;\"><div class=\"suggestion-warning\">Found:</div><div class=\"highlight-code\" id=\"haskell\">x `quot` (gcd x y)</div></div><div class=\"suggestion-row\" style=\"float: left;\"><div class=\"suggestion-warning\">Why Not:</div><div class=\"highlight-code\" id=\"haskell\">x `quot` gcd x y</div></div><div class=\"suggestion-name\" style=\"clear:both;\">Redundant bracket</div><div class=\"suggestion-row\" style=\"float: left;\"><div class=\"suggestion-warning\">Found:</div><div class=\"highlight-code\" id=\"haskell\">((x `quot` (gcd x (minimocm z)) * (minimocm z)))</div></div><div class=\"suggestion-row\" style=\"float: left;\"><div class=\"suggestion-warning\">Why Not:</div><div class=\"highlight-code\" id=\"haskell\">(x `quot` (gcd x (minimocm z)) * (minimocm z))</div></div><div class=\"suggestion-name\" style=\"clear:both;\">Redundant bracket</div><div class=\"suggestion-row\" style=\"float: left;\"><div class=\"suggestion-warning\">Found:</div><div class=\"highlight-code\" id=\"haskell\">x `quot` (gcd x (minimocm z))</div></div><div class=\"suggestion-row\" style=\"float: left;\"><div class=\"suggestion-warning\">Why Not:</div><div class=\"highlight-code\" id=\"haskell\">x `quot` gcd x (minimocm z)</div></div><div class=\"suggestion-name\" style=\"clear:both;\">Redundant bracket</div><div class=\"suggestion-row\" style=\"float: left;\"><div class=\"suggestion-warning\">Found:</div><div class=\"highlight-code\" id=\"haskell\">x `quot` (gcd x (minimocm z)) * (minimocm z)</div></div><div class=\"suggestion-row\" style=\"float: left;\"><div class=\"suggestion-warning\">Why Not:</div><div class=\"highlight-code\" id=\"haskell\">x `quot` (gcd x (minimocm z)) * minimocm z</div></div>"
      ],
      "text/plain": [
       "Line 4: Redundant bracket\n",
       "Found:\n",
       "x `quot` (gcd x y)\n",
       "Why not:\n",
       "x `quot` gcd x yLine 5: Redundant bracket\n",
       "Found:\n",
       "((x `quot` (gcd x (minimocm z)) * (minimocm z)))\n",
       "Why not:\n",
       "(x `quot` (gcd x (minimocm z)) * (minimocm z))Line 5: Redundant bracket\n",
       "Found:\n",
       "x `quot` (gcd x (minimocm z))\n",
       "Why not:\n",
       "x `quot` gcd x (minimocm z)Line 5: Redundant bracket\n",
       "Found:\n",
       "x `quot` (gcd x (minimocm z)) * (minimocm z)\n",
       "Why not:\n",
       "x `quot` (gcd x (minimocm z)) * minimocm z"
      ]
     },
     "metadata": {},
     "output_type": "display_data"
    }
   ],
   "source": [
    "minimocm:: [Int] -> Int\n",
    "minimocm [x] = x\n",
    "-- Mínimo común múltiplo de manera iterativa\n",
    "minimocm [x,y] = abs ((x `quot` (gcd x y)) * y)\n",
    "minimocm (x:z) = abs ((x `quot` (gcd x (minimocm z)) * (minimocm z)))\n",
    "mediaDivN :: Int -> Int -> Double\n",
    "mediaDivN d n = media \n",
    "    where\n",
    "        media = fromIntegral(minimocm[1..d]) * fromIntegral(n+1) / 2"
   ]
  },
  {
   "cell_type": "code",
   "execution_count": 57,
   "id": "0dc55d78-15e4-4fe3-9524-74d960257cab",
   "metadata": {},
   "outputs": [
    {
     "data": {
      "text/plain": [
       "5.0"
      ]
     },
     "metadata": {},
     "output_type": "display_data"
    },
    {
     "data": {
      "text/plain": [
       "33.0"
      ]
     },
     "metadata": {},
     "output_type": "display_data"
    },
    {
     "data": {
      "text/plain": [
       "18.0"
      ]
     },
     "metadata": {},
     "output_type": "display_data"
    },
    {
     "data": {
      "text/plain": [
       "840.0"
      ]
     },
     "metadata": {},
     "output_type": "display_data"
    }
   ],
   "source": [
    "mediaDivN 2 4\n",
    "mediaDivN 3 10\n",
    "mediaDivN 3 5\n",
    "mediaDivN 7 3"
   ]
  },
  {
   "cell_type": "code",
   "execution_count": null,
   "id": "052ef784-4723-4bb1-9a1f-b6fe9b051bc3",
   "metadata": {},
   "outputs": [],
   "source": []
  }
 ],
 "metadata": {
  "kernelspec": {
   "display_name": "Haskell",
   "language": "haskell",
   "name": "haskell"
  },
  "language_info": {
   "codemirror_mode": "ihaskell",
   "file_extension": ".hs",
   "mimetype": "text/x-haskell",
   "name": "haskell",
   "pygments_lexer": "Haskell",
   "version": "8.10.7"
  }
 },
 "nbformat": 4,
 "nbformat_minor": 5
}
